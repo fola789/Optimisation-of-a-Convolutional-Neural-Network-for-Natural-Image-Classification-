{
 "cells": [
  {
   "cell_type": "code",
   "execution_count": 1,
   "metadata": {
    "colab": {
     "base_uri": "https://localhost:8080/",
     "height": 581
    },
    "colab_type": "code",
    "id": "XQYKKjPeKaQ8",
    "outputId": "f6e1e403-3aa8-476f-ec82-7a8fd523348f",
    "scrolled": true
   },
   "outputs": [
    {
     "name": "stdout",
     "output_type": "stream",
     "text": [
      "('Failed to import pydot. You must `pip install pydot` and install graphviz (https://graphviz.gitlab.io/download/), ', 'for `pydotprint` to work.')\n",
      "Epoch 1/20\n",
      "44/44 [==============================] - 3s 53ms/step - loss: 1.7792 - accuracy: 0.3684 - val_loss: 0.9612 - val_accuracy: 0.6500\n",
      "Epoch 2/20\n",
      "44/44 [==============================] - 2s 38ms/step - loss: 0.8828 - accuracy: 0.6880 - val_loss: 0.7130 - val_accuracy: 0.7406\n",
      "Epoch 3/20\n",
      "44/44 [==============================] - 2s 38ms/step - loss: 0.7102 - accuracy: 0.7449 - val_loss: 0.6175 - val_accuracy: 0.7587\n",
      "Epoch 4/20\n",
      "44/44 [==============================] - 2s 37ms/step - loss: 0.6017 - accuracy: 0.7813 - val_loss: 0.6011 - val_accuracy: 0.7812\n",
      "Epoch 5/20\n",
      "44/44 [==============================] - 2s 38ms/step - loss: 0.5439 - accuracy: 0.7962 - val_loss: 0.5799 - val_accuracy: 0.7732\n",
      "Epoch 6/20\n",
      "44/44 [==============================] - 2s 37ms/step - loss: 0.5142 - accuracy: 0.8097 - val_loss: 0.5192 - val_accuracy: 0.7986\n",
      "Epoch 7/20\n",
      "44/44 [==============================] - 2s 39ms/step - loss: 0.4735 - accuracy: 0.8280 - val_loss: 0.4657 - val_accuracy: 0.8261\n",
      "Epoch 8/20\n",
      "44/44 [==============================] - 2s 38ms/step - loss: 0.4387 - accuracy: 0.8336 - val_loss: 0.4502 - val_accuracy: 0.8312\n",
      "Epoch 9/20\n",
      "44/44 [==============================] - 2s 38ms/step - loss: 0.4134 - accuracy: 0.8508 - val_loss: 0.4549 - val_accuracy: 0.8312\n",
      "Epoch 10/20\n",
      "44/44 [==============================] - 2s 39ms/step - loss: 0.4254 - accuracy: 0.8483 - val_loss: 0.4312 - val_accuracy: 0.8297\n",
      "Epoch 11/20\n",
      "44/44 [==============================] - 2s 39ms/step - loss: 0.3915 - accuracy: 0.8528 - val_loss: 0.3993 - val_accuracy: 0.8442\n",
      "Epoch 12/20\n",
      "44/44 [==============================] - 2s 39ms/step - loss: 0.3360 - accuracy: 0.8720 - val_loss: 0.3910 - val_accuracy: 0.8543\n",
      "Epoch 13/20\n",
      "44/44 [==============================] - 2s 38ms/step - loss: 0.3209 - accuracy: 0.8774 - val_loss: 0.4077 - val_accuracy: 0.8507\n",
      "Epoch 14/20\n",
      "44/44 [==============================] - 2s 38ms/step - loss: 0.3304 - accuracy: 0.8705 - val_loss: 0.3767 - val_accuracy: 0.8580\n",
      "Epoch 15/20\n",
      "44/44 [==============================] - 2s 39ms/step - loss: 0.2958 - accuracy: 0.8948 - val_loss: 0.3641 - val_accuracy: 0.8674\n",
      "Epoch 16/20\n",
      "44/44 [==============================] - 2s 38ms/step - loss: 0.2780 - accuracy: 0.8957 - val_loss: 0.3842 - val_accuracy: 0.8522\n",
      "Epoch 17/20\n",
      "44/44 [==============================] - 2s 39ms/step - loss: 0.2678 - accuracy: 0.9045 - val_loss: 0.3664 - val_accuracy: 0.8659\n",
      "Epoch 18/20\n",
      "44/44 [==============================] - 2s 38ms/step - loss: 0.2580 - accuracy: 0.9097 - val_loss: 0.3832 - val_accuracy: 0.8522\n",
      "Epoch 19/20\n",
      "44/44 [==============================] - 2s 38ms/step - loss: 0.2719 - accuracy: 0.8964 - val_loss: 0.3826 - val_accuracy: 0.8601\n",
      "Epoch 20/20\n",
      "44/44 [==============================] - 2s 38ms/step - loss: 0.2309 - accuracy: 0.9144 - val_loss: 0.3908 - val_accuracy: 0.8493\n",
      "Test loss: 0.3907688856124878\n",
      "Test accuracy: 0.8492753505706787\n",
      "Total training time 34.80386209487915 seconds\n"
     ]
    }
   ],
   "source": [
    "import os\n",
    "import keras\n",
    "from keras.models import Sequential\n",
    "from keras.layers import Dense, Dropout, Conv2D, MaxPooling2D, Flatten\n",
    "from keras.utils.vis_utils import plot_model\n",
    "import cv2\n",
    "import numpy as np\n",
    "import tarfile\n",
    "import pandas as pd\n",
    "import matplotlib.pyplot as plt\n",
    "from sklearn.model_selection import train_test_split\n",
    "from sklearn.preprocessing import LabelBinarizer\n",
    "from sklearn.metrics import confusion_matrix\n",
    "from sklearn.metrics import plot_confusion_matrix\n",
    "from sklearn import svm\n",
    "from time import time\n",
    "import tensorflow as tf\n",
    "\n",
    "\n",
    "\n",
    "# create a dictionary and loop the imagefiles into it\n",
    "dictionary = {}\n",
    "for path, subdirs, files in os.walk(\"C:\\\\Users\\\\Fola\\\\Documents\\\\Masters\\\\20COP508 - Machine Learning\\\\Assignment\\\\natural_images\"):\n",
    "  for dir in subdirs:\n",
    "    dummy = []\n",
    "    for file in os.listdir(os.path.join(path, dir)):\n",
    "      img = cv2.imread(os.path.join(path, dir, file), cv2.IMREAD_GRAYSCALE)\n",
    "      img = cv2.resize(img, (32,32))\n",
    "      img_asArray = np.array(img)\n",
    "      dummy.append(img_asArray)\n",
    "    dictionary[dir] = np.array(dummy)\n",
    "    \n",
    "# create X and Y datasets\n",
    "X = np.concatenate((dictionary['airplane'], dictionary['car'], dictionary['cat'], dictionary['dog'], dictionary['flower'], dictionary['fruit'], dictionary['motorbike'], dictionary['person']))\n",
    "Y = ['airplane' for i in range(len(dictionary['airplane']))]\n",
    "Y.extend(['car' for i in range(len(dictionary['car']))])\n",
    "Y.extend(['cat' for i in range(len(dictionary['cat']))])\n",
    "Y.extend(['dog' for i in range(len(dictionary['dog']))])\n",
    "Y.extend(['flower' for i in range(len(dictionary['flower']))])\n",
    "Y.extend(['fruit' for i in range(len(dictionary['fruit']))])\n",
    "Y.extend(['motorbike' for i in range(len(dictionary['motorbike']))])\n",
    "Y.extend(['person' for i in range(len(dictionary['person']))])\n",
    "\n",
    "# normalize data\n",
    "X = X/255\n",
    "\n",
    "X = X.reshape(-1, 32, 32, 1)\n",
    "Y = LabelBinarizer().fit_transform(Y)\n",
    "x_train, x_test, y_train, y_test = train_test_split(X, Y, test_size= 0.2)\n",
    "\n",
    "\n",
    "batch_size = 128\n",
    "num_classes = 8\n",
    "epochs = 20\n",
    "input_shape = (32, 32, 1, )\n",
    "\n",
    "\n",
    "# Model Building\n",
    "model = Sequential()\n",
    "model.add(Conv2D(32, kernel_size=(3, 3), activation='relu', input_shape=input_shape))\n",
    "model.add(MaxPooling2D(pool_size=(2, 2))) \n",
    "model.add(Conv2D(64, (3, 3), activation='relu'))\n",
    "model.add(MaxPooling2D(pool_size=(2, 2))) \n",
    "model.add(Dropout(0.25))\n",
    "model.add(Flatten())\n",
    "model.add(Dense(128, activation='relu', input_shape=input_shape))\n",
    "model.add(Dropout(0.25))\n",
    "model.add(Dense(num_classes, activation='softmax'))\n",
    "\n",
    "# Visualisation of the model\n",
    "keras.utils.plot_model(model, 'model.png')\n",
    "\n",
    "model.compile(loss=keras.losses.categorical_crossentropy, optimizer=keras.optimizers.Adam(), metrics=['accuracy'])\n",
    "# Start loop for training time\n",
    "start = time()  \n",
    "history = model.fit(x_train, y_train, batch_size=batch_size, epochs=epochs, verbose=1, validation_data=(x_test, y_test))\n",
    "score = model.evaluate(x_test, y_test, verbose=0)\n",
    "print('Test loss:', score[0])\n",
    "print('Test accuracy:', score[1])\n",
    "# End loop for training time\n",
    "end = time()\n",
    "print('Total training time {} seconds'.format(end - start))\n"
   ]
  },
  {
   "cell_type": "code",
   "execution_count": 2,
   "metadata": {
    "scrolled": false
   },
   "outputs": [
    {
     "name": "stdout",
     "output_type": "stream",
     "text": [
      "[[123   2   4   3   1   0   0   0]\n",
      " [  0 181   5   3   9   0   0   0]\n",
      " [  1   2 137  13  24   1   0   1]\n",
      " [  0   2  47  57  31   1   0   1]\n",
      " [  2   0  20  11 141   3   0   1]\n",
      " [  3   0   0   0   0 204   0   0]\n",
      " [  0   0   0   0  15   0 144   0]\n",
      " [  0   0   1   1   0   0   0 185]]\n"
     ]
    }
   ],
   "source": [
    "# Confusion Matrix \n",
    "my_preds = model.predict(x_test).argmax(axis=1)\n",
    "my_labels=np.argmax(y_test, axis=1)\n",
    "cm = confusion_matrix(my_labels, my_preds)\n",
    "print(cm)"
   ]
  },
  {
   "cell_type": "code",
   "execution_count": 3,
   "metadata": {},
   "outputs": [
    {
     "name": "stdout",
     "output_type": "stream",
     "text": [
      "20\n"
     ]
    },
    {
     "data": {
      "image/png": "[encoded data removed]",
      "text/plain": [
       "<Figure size 576x576 with 1 Axes>"
      ]
     },
     "metadata": {
      "needs_background": "light"
     },
     "output_type": "display_data"
    }
   ],
   "source": [
    "# Training accuracy Graph\n",
    "import matplotlib.pyplot as plt\n",
    "fig,ax=plt.subplots(1,figsize=(8,8))\n",
    "fig.tight_layout(pad=3.0)\n",
    "ax.plot(history.history['accuracy'])\n",
    "ax.set_title('Training accuracy')\n",
    "ax.grid()\n",
    "ax.set_xlabel(\"Epochs\")\n",
    "ax.set_ylabel(\"Accuracy\")\n",
    "print(len(history.history['accuracy']))\n"
   ]
  },
  {
   "cell_type": "code",
   "execution_count": 4,
   "metadata": {
    "scrolled": false
   },
   "outputs": [
    {
     "data": {
      "text/plain": [
       "Text(45.0, 0.5, 'Loss')"
      ]
     },
     "execution_count": 4,
     "metadata": {},
     "output_type": "execute_result"
    },
    {
     "data": {
      "image/png": "[encoded data removed]",
      "text/plain": [
       "<Figure size 576x576 with 1 Axes>"
      ]
     },
     "metadata": {
      "needs_background": "light"
     },
     "output_type": "display_data"
    }
   ],
   "source": [
    "# Training Loss Graph\n",
    "fig,ax=plt.subplots(1,figsize=(8,8))\n",
    "fig.tight_layout(pad=3.0)\n",
    "plt.plot(history.history['loss'])\n",
    "plt.title('Training Loss')\n",
    "plt.grid()\n",
    "plt.xlabel(\"Epochs\")\n",
    "plt.ylabel(\"Loss\")\n"
   ]
  },
  {
   "cell_type": "code",
   "execution_count": 5,
   "metadata": {},
   "outputs": [
    {
     "name": "stdout",
     "output_type": "stream",
     "text": [
      "0.06372261047363281\n"
     ]
    }
   ],
   "source": [
    "# Wilcoxon Ranks Test\n",
    "from scipy.stats import wilcoxon\n",
    "\n",
    "results_without_dropout = [0.865,0.852,0.860,0.846,0.860,0.883,0.855,0.843,0.839,0.850,0.857,0.857,0.871,0.844,0.858,0.867,0.863,0.866,0.872,0.853]\n",
    "\n",
    "results_with_dropout = [0.871,0.863,0.865,0.865,0.863,0.875,0.854,0.872,0.868,0.871,0.858,0.852,0.867,0.838,0.855,0.870,0.868,0.886,0.863,0.877]\n",
    "\n",
    "w,p = wilcoxon(results_with_dropout, results_without_dropout)\n",
    "print(p)"
   ]
  },
  {
   "cell_type": "code",
   "execution_count": 6,
   "metadata": {},
   "outputs": [
    {
     "name": "stdout",
     "output_type": "stream",
     "text": [
      "2.6702880859375e-05\n"
     ]
    }
   ],
   "source": [
    "loss_results_without_dropout = [0.541,0.571,0.592,0.659,0.541,0.515,0.606,0.647,0.702,0.603,0.603,0.473,0.505,0.631,0.595,0.554,0.592,0.567,0.483,0.612]\n",
    "\n",
    "loss_results_with_dropout = [0.497, 0.519, 0.435, 0.531, 0.485, 0.440, 0.535, 0.495, 0.489, 0.486, 0.512, 0.532, 0.461, 0.544, 0.482, 0.460, 0.526, 0.443, 0.452, 0.423] \n",
    "\n",
    "w,p = wilcoxon(loss_results_without_dropout, loss_results_with_dropout)\n",
    "print(p)"
   ]
  },
  {
   "cell_type": "code",
   "execution_count": 7,
   "metadata": {},
   "outputs": [
    {
     "data": {
      "image/png": "[encoded data removed]",
      "text/plain": [
       "<Figure size 576x576 with 1 Axes>"
      ]
     },
     "metadata": {
      "needs_background": "light"
     },
     "output_type": "display_data"
    }
   ],
   "source": [
    "mean_with_dropout = sum(loss_results_with_dropout)/len(loss_results_with_dropout)\n",
    "mean_without_dropout = sum(loss_results_without_dropout)/len(loss_results_without_dropout)\n",
    "fig2,ax2 = plt.subplots(1, figsize=(8,8))\n",
    "fig2.tight_layout(pad=3.0)\n",
    "ax2.bar([1, 2], [mean_with_dropout, mean_without_dropout])\n",
    "ax2.set_title(\"Mean Final Loss Against Dropout Setting\")\n",
    "ax2.set_xlabel(\"Dropout Setting\")\n",
    "ax2.set_ylabel(\"Mean Final Loss\")\n",
    "ax2.set_xticklabels([\"With Dropout\", \"Without Dropout\"])\n",
    "ax2.set_xticks([1,2])\n",
    "plt.show()"
   ]
  },
  {
   "cell_type": "code",
   "execution_count": 8,
   "metadata": {},
   "outputs": [
    {
     "name": "stdout",
     "output_type": "stream",
     "text": [
      "-0.09225000000000011\n"
     ]
    }
   ],
   "source": [
    "print(mean_with_dropout - mean_without_dropout)"
   ]
  }
 ],
 "metadata": {
  "colab": {
   "collapsed_sections": [],
   "name": "Task 4.2 Natural Images.ipynb",
   "provenance": [],
   "version": "0.3.2"
  },
  "kernelspec": {
   "display_name": "Python 3",
   "language": "python",
   "name": "python3"
  },
  "language_info": {
   "codemirror_mode": {
    "name": "ipython",
    "version": 3
   },
   "file_extension": ".py",
   "mimetype": "text/x-python",
   "name": "python",
   "nbconvert_exporter": "python",
   "pygments_lexer": "ipython3",
   "version": "3.8.3"
  }
 },
 "nbformat": 4,
 "nbformat_minor": 1
}
